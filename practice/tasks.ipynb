{
 "cells": [
  {
   "cell_type": "code",
   "execution_count": 22,
   "metadata": {},
   "outputs": [
    {
     "name": "stderr",
     "output_type": "stream",
     "text": [
      "[*********************100%***********************]  1 of 1 completed"
     ]
    },
    {
     "name": "stdout",
     "output_type": "stream",
     "text": [
      "no. of 1 : 438\n",
      "no. of -1 : 50\n",
      "                   Open         High          Low        Close    Adj Close  \\\n",
      "Date                                                                          \n",
      "2018-01-01   843.654785   843.654785   829.756958   831.814209   806.939575   \n",
      "2018-01-02   834.785767   840.774658   828.751160   833.094238   808.181335   \n",
      "2018-01-03   845.757751   846.672119   834.831482   836.431580   811.418884   \n",
      "2018-01-04   839.494568   842.831909   837.254456   841.460388   816.297363   \n",
      "2018-01-05   842.831909   847.494995   841.414673   844.157654   818.914001   \n",
      "...                 ...          ...          ...          ...          ...   \n",
      "2019-12-24  1434.496582  1437.376709  1410.358154  1413.969849  1389.144653   \n",
      "2019-12-26  1409.581055  1419.912964  1380.779541  1385.579834  1361.252808   \n",
      "2019-12-27  1396.186035  1413.741211  1390.974365  1410.221069  1385.461548   \n",
      "2019-12-30  1413.512695  1415.067017  1397.146118  1411.912598  1387.123291   \n",
      "2019-12-31  1409.901001  1411.455444  1378.859497  1384.345459  1360.040161   \n",
      "\n",
      "              Volume  Signals  \n",
      "Date                           \n",
      "2018-01-01   4726601        0  \n",
      "2018-01-02   4749709        1  \n",
      "2018-01-03   6753900        1  \n",
      "2018-01-04   4504466        1  \n",
      "2018-01-05   3720642        1  \n",
      "...              ...      ...  \n",
      "2019-12-24   9024224        1  \n",
      "2019-12-26  14880509        1  \n",
      "2019-12-27   8838785        1  \n",
      "2019-12-30   8561874        1  \n",
      "2019-12-31  11101502        1  \n",
      "\n",
      "[489 rows x 7 columns]\n"
     ]
    },
    {
     "name": "stderr",
     "output_type": "stream",
     "text": [
      "\n"
     ]
    }
   ],
   "source": [
    "import yfinance as yf\n",
    "import pandas as pd\n",
    "import numpy as np\n",
    "\n",
    "signal=[]\n",
    "data=yf.download(\"RELIANCE.NS\", \"2018-01-01\", \"2020-01-01\")\n",
    "\n",
    "for i in range (len(data)):\n",
    "    if (data['Close'].iloc[i]>(data.head(i)['Close'].mean())):\n",
    "        signal.append(1)\n",
    "    elif (data['Close'].iloc[i]<(data.head(i)['Close'].mean())):\n",
    "        signal.append(-1)\n",
    "    else:\n",
    "        signal.append(0)\n",
    "\n",
    "data['Signals']=signal\n",
    "\n",
    "signal_1 = 0\n",
    "signal_2 = 0\n",
    "for i in range (len(data)):\n",
    "    if data['Signals'].iloc[i]==1:\n",
    "            signal_1 += 1\n",
    "    elif data['Signals'].iloc[i]==-1:\n",
    "            signal_2 += 1 \n",
    "    else:\n",
    "         pass\n",
    "\n",
    "print('no. of 1 :', signal_1)\n",
    "print('no. of -1 :', signal_2)\n",
    "print(data)\n"
   ]
  },
  {
   "cell_type": "code",
   "execution_count": 1,
   "metadata": {},
   "outputs": [
    {
     "name": "stderr",
     "output_type": "stream",
     "text": [
      "[*********************100%***********************]  1 of 1 completed"
     ]
    },
    {
     "name": "stdout",
     "output_type": "stream",
     "text": [
      "no. of 1 : 422\n",
      "no. of -1 : 47\n",
      "                   Open         High          Low        Close    Adj Close  \\\n",
      "Date                                                                          \n",
      "2018-01-01   843.654785   843.654785   829.756958   831.814209   806.939636   \n",
      "2018-01-02   834.785767   840.774658   828.751160   833.094238   808.181335   \n",
      "2018-01-03   845.757751   846.672119   834.831482   836.431580   811.418945   \n",
      "2018-01-04   839.494568   842.831909   837.254456   841.460388   816.297363   \n",
      "2018-01-05   842.831909   847.494995   841.414673   844.157654   818.914062   \n",
      "...                 ...          ...          ...          ...          ...   \n",
      "2019-12-24  1434.496582  1437.376709  1410.358154  1413.969849  1389.144287   \n",
      "2019-12-26  1409.581055  1419.912964  1380.779541  1385.579834  1361.252808   \n",
      "2019-12-27  1396.186035  1413.741211  1390.974365  1410.221069  1385.461426   \n",
      "2019-12-30  1413.512695  1415.067017  1397.146118  1411.912598  1387.123413   \n",
      "2019-12-31  1409.901001  1411.455444  1378.859497  1384.345459  1360.040283   \n",
      "\n",
      "              Volume  Signals  \n",
      "Date                           \n",
      "2018-01-01   4726601        0  \n",
      "2018-01-02   4749709        0  \n",
      "2018-01-03   6753900        0  \n",
      "2018-01-04   4504466        0  \n",
      "2018-01-05   3720642        0  \n",
      "...              ...      ...  \n",
      "2019-12-24   9024224        1  \n",
      "2019-12-26  14880509        1  \n",
      "2019-12-27   8838785        1  \n",
      "2019-12-30   8561874        1  \n",
      "2019-12-31  11101502        1  \n",
      "\n",
      "[489 rows x 7 columns]\n"
     ]
    },
    {
     "name": "stderr",
     "output_type": "stream",
     "text": [
      "\n"
     ]
    }
   ],
   "source": [
    "import yfinance as yf\n",
    "import pandas as pd\n",
    "import numpy as np \n",
    "\n",
    "data=yf.download(\"RELIANCE.NS\", \"2018-01-01\", \"2020-01-01\")\n",
    "signals=[0]*20\n",
    "\n",
    "for i in range (len(data)-20):\n",
    "    if data.iloc[i+10:i+20,4].mean() > data.iloc[0:i+20,4].mean():\n",
    "        signals.append(1)\n",
    "    elif data.iloc[i+10:i+20,4].mean() < data.iloc[0:i+20,4].mean():\n",
    "        signals.append(-1)\n",
    "\n",
    "data['Signals']=signals\n",
    "\n",
    "signal_1 = 0\n",
    "signal_2 = 0\n",
    "for i in range (len(data)):\n",
    "    if data['Signals'].iloc[i]==1:\n",
    "            signal_1 += 1\n",
    "    elif data['Signals'].iloc[i]==-1:\n",
    "            signal_2 += 1 \n",
    "    else:\n",
    "         pass\n",
    "\n",
    "print('no. of 1 :', signal_1)\n",
    "print('no. of -1 :', signal_2)\n",
    "print(data)\n"
   ]
  }
 ],
 "metadata": {
  "kernelspec": {
   "display_name": "Python 3",
   "language": "python",
   "name": "python3"
  },
  "language_info": {
   "codemirror_mode": {
    "name": "ipython",
    "version": 3
   },
   "file_extension": ".py",
   "mimetype": "text/x-python",
   "name": "python",
   "nbconvert_exporter": "python",
   "pygments_lexer": "ipython3",
   "version": "3.12.5"
  }
 },
 "nbformat": 4,
 "nbformat_minor": 2
}
